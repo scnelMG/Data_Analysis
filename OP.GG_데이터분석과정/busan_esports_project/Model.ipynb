{
 "cells": [
  {
   "cell_type": "code",
   "execution_count": 1,
   "id": "9d905bf9",
   "metadata": {},
   "outputs": [],
   "source": [
    "import pandas as pd\n",
    "import numpy as np\n",
    "from statsmodels.formula.api import ols"
   ]
  },
  {
   "cell_type": "code",
   "execution_count": 2,
   "id": "3570a763",
   "metadata": {},
   "outputs": [],
   "source": [
    "full_GOLD = pd.read_csv('forModel/full_GOLD.csv', index_col=0)\n",
    "GT = full_GOLD[full_GOLD['position'] == 'T']"
   ]
  },
  {
   "cell_type": "code",
   "execution_count": 3,
   "id": "44146555",
   "metadata": {},
   "outputs": [],
   "source": [
    "X = GT[['hp', 'hpperlevel', 'mp', 'mpperlevel',\n",
    "       'movespeed', 'armor', 'armorperlevel', 'spellblock',\n",
    "       'spellblockperlevel', 'attackrange', 'hpregen', 'hpregenperlevel',\n",
    "       'mpregen', 'mpregenperlevel', 'crit', 'critperlevel', 'attackdamage',\n",
    "       'attackdamageperlevel', 'attackspeedperlevel', 'attackspeed', 'hp_18',\n",
    "       'mp_18', 'armor_18', 'spellblock_18', 'hpregen_18', 'mpregen_18',\n",
    "       'crit_18', 'attackdamage_18', 'attackspeed_18', 'difficulty',\n",
    "       'damage', 'durability', 'crowdControl', 'mobility','utility', 'style', 'damageType']]\n",
    "y = GT[['pickRate']]"
   ]
  },
  {
   "cell_type": "code",
   "execution_count": 4,
   "id": "e3199ebc",
   "metadata": {},
   "outputs": [
    {
     "name": "stderr",
     "output_type": "stream",
     "text": [
      "C:\\ProgramData\\Anaconda3\\lib\\site-packages\\pandas\\core\\indexing.py:1835: SettingWithCopyWarning: \n",
      "A value is trying to be set on a copy of a slice from a DataFrame.\n",
      "Try using .loc[row_indexer,col_indexer] = value instead\n",
      "\n",
      "See the caveats in the documentation: https://pandas.pydata.org/pandas-docs/stable/user_guide/indexing.html#returning-a-view-versus-a-copy\n",
      "  self._setitem_single_column(loc, value[:, i].tolist(), pi)\n"
     ]
    }
   ],
   "source": [
    "# 연속형 변수 스케일링\n",
    "from sklearn.preprocessing import MinMaxScaler\n",
    "scaler = MinMaxScaler()\n",
    "X.iloc[:,0:35] = scaler.fit_transform(X.iloc[:,0:35])"
   ]
  },
  {
   "cell_type": "code",
   "execution_count": 5,
   "id": "b860ab14",
   "metadata": {},
   "outputs": [
    {
     "name": "stderr",
     "output_type": "stream",
     "text": [
      "C:\\Users\\kkandoll\\AppData\\Local\\Temp/ipykernel_12812/2306639857.py:2: SettingWithCopyWarning: \n",
      "A value is trying to be set on a copy of a slice from a DataFrame.\n",
      "Try using .loc[row_indexer,col_indexer] = value instead\n",
      "\n",
      "See the caveats in the documentation: https://pandas.pydata.org/pandas-docs/stable/user_guide/indexing.html#returning-a-view-versus-a-copy\n",
      "  X['style'] = pd.Categorical(X['style'])\n",
      "C:\\Users\\kkandoll\\AppData\\Local\\Temp/ipykernel_12812/2306639857.py:3: SettingWithCopyWarning: \n",
      "A value is trying to be set on a copy of a slice from a DataFrame.\n",
      "Try using .loc[row_indexer,col_indexer] = value instead\n",
      "\n",
      "See the caveats in the documentation: https://pandas.pydata.org/pandas-docs/stable/user_guide/indexing.html#returning-a-view-versus-a-copy\n",
      "  X['damageType'] = pd.Categorical(X['damageType'])\n"
     ]
    }
   ],
   "source": [
    "# 범주형 변수 원핫인코딩\n",
    "X['style'] = pd.Categorical(X['style'])\n",
    "X['damageType'] = pd.Categorical(X['damageType'])\n",
    "X = pd.get_dummies(X, prefix_sep='_',drop_first=True)"
   ]
  },
  {
   "cell_type": "code",
   "execution_count": 6,
   "id": "b2f13a8d",
   "metadata": {},
   "outputs": [],
   "source": [
    "X_columns = X.columns"
   ]
  },
  {
   "cell_type": "code",
   "execution_count": 7,
   "id": "38907386",
   "metadata": {},
   "outputs": [],
   "source": [
    "from sklearn.model_selection import train_test_split\n",
    "X_train, X_test, y_train, y_test = train_test_split(X, y, test_size=0.2, random_state=121)"
   ]
  },
  {
   "cell_type": "code",
   "execution_count": 8,
   "id": "e2ac7342",
   "metadata": {},
   "outputs": [],
   "source": [
    "X_train = X_train.to_numpy()\n",
    "y_train = y_train.to_numpy()\n",
    "X_test = X_test.to_numpy()\n",
    "y_test = y_test.to_numpy()"
   ]
  },
  {
   "cell_type": "code",
   "execution_count": 13,
   "id": "4f15cc30",
   "metadata": {},
   "outputs": [
    {
     "name": "stderr",
     "output_type": "stream",
     "text": [
      "C:\\Users\\kkandoll\\AppData\\Local\\Temp/ipykernel_12812/3899432818.py:3: DataConversionWarning: A column-vector y was passed when a 1d array was expected. Please change the shape of y to (n_samples,), for example using ravel().\n",
      "  model.fit(X_train, y_train)\n"
     ]
    },
    {
     "data": {
      "text/plain": [
       "RandomForestRegressor(n_estimators=1000, n_jobs=-1, random_state=1)"
      ]
     },
     "execution_count": 13,
     "metadata": {},
     "output_type": "execute_result"
    }
   ],
   "source": [
    "from sklearn.ensemble import RandomForestRegressor\n",
    "model = RandomForestRegressor(n_estimators=1000, criterion='mse', random_state=1, n_jobs=-1)\n",
    "model.fit(X_train, y_train)"
   ]
  },
  {
   "cell_type": "code",
   "execution_count": 14,
   "id": "097cdeb9",
   "metadata": {},
   "outputs": [
    {
     "name": "stdout",
     "output_type": "stream",
     "text": [
      "-0.08406958304464673\n"
     ]
    }
   ],
   "source": [
    "print(model.score(X_test, y_test))"
   ]
  },
  {
   "cell_type": "code",
   "execution_count": 19,
   "id": "fde5f8ac",
   "metadata": {},
   "outputs": [
    {
     "data": {
      "text/plain": [
       "array([[0.00100709],\n",
       "       [0.00159503],\n",
       "       [0.00852087],\n",
       "       [0.00033195],\n",
       "       [0.00884719],\n",
       "       [0.00115337],\n",
       "       [0.00735906],\n",
       "       [0.00093958],\n",
       "       [0.00314786],\n",
       "       [0.00211264],\n",
       "       [0.00014347],\n",
       "       [0.00370204],\n",
       "       [0.03891639],\n",
       "       [0.00560369],\n",
       "       [0.00946045],\n",
       "       [0.02134016],\n",
       "       [0.00018566],\n",
       "       [0.00050636],\n",
       "       [0.00025318],\n",
       "       [0.00036289],\n",
       "       [0.02352312],\n",
       "       [0.04664397],\n",
       "       [0.00168223],\n",
       "       [0.00973051],\n",
       "       [0.01235794],\n",
       "       [0.00078767],\n",
       "       [0.01925003],\n",
       "       [0.00061607]])"
      ]
     },
     "execution_count": 19,
     "metadata": {},
     "output_type": "execute_result"
    }
   ],
   "source": [
    "y_test"
   ]
  },
  {
   "cell_type": "code",
   "execution_count": 17,
   "id": "be6c5ea7",
   "metadata": {},
   "outputs": [
    {
     "data": {
      "text/plain": [
       "array([0.00895444, 0.00218353, 0.00760167, 0.00972027, 0.00199546,\n",
       "       0.00319566, 0.01857201, 0.00296432, 0.00130672, 0.02532194,\n",
       "       0.00474588, 0.00116201, 0.01060313, 0.01514866, 0.01243083,\n",
       "       0.00922397, 0.00964188, 0.00140123, 0.01120969, 0.00807759,\n",
       "       0.01391037, 0.00794539, 0.00092557, 0.0160656 , 0.01445747,\n",
       "       0.00233325, 0.00389423, 0.00443171])"
      ]
     },
     "execution_count": 17,
     "metadata": {},
     "output_type": "execute_result"
    }
   ],
   "source": [
    "y_pred = model.predict(X_test)\n",
    "y_pred"
   ]
  },
  {
   "cell_type": "code",
   "execution_count": 11,
   "id": "a7c6c942",
   "metadata": {},
   "outputs": [
    {
     "data": {
      "image/png": "[encoded data removed]",
      "text/plain": [
       "<Figure size 576x432 with 1 Axes>"
      ]
     },
     "metadata": {
      "needs_background": "light"
     },
     "output_type": "display_data"
    }
   ],
   "source": [
    "import matplotlib.pyplot as plt\n",
    "import seaborn as sns\n",
    "\n",
    "feature_importances_values = model.feature_importances_\n",
    "feature_importances = pd.Series(feature_importances_values, index=X_columns)\n",
    "feature_importances_top5 = feature_importances.sort_values(ascending=False)[:5] #중요한 순서로 정렬 후 top 5개만 뽑아 시각화\n",
    "\n",
    "plt.figure(figsize=(8, 6))\n",
    "plt.title('Feature Importances Top 5')\n",
    "sns.barplot(x=feature_importances_top5, y=feature_importances_top5.index)\n",
    "plt.show()"
   ]
  },
  {
   "cell_type": "code",
   "execution_count": null,
   "id": "fc0ca143",
   "metadata": {},
   "outputs": [],
   "source": []
  }
 ],
 "metadata": {
  "kernelspec": {
   "display_name": "Python 3 (ipykernel)",
   "language": "python",
   "name": "python3"
  },
  "language_info": {
   "codemirror_mode": {
    "name": "ipython",
    "version": 3
   },
   "file_extension": ".py",
   "mimetype": "text/x-python",
   "name": "python",
   "nbconvert_exporter": "python",
   "pygments_lexer": "ipython3",
   "version": "3.8.8"
  }
 },
 "nbformat": 4,
 "nbformat_minor": 5
}
